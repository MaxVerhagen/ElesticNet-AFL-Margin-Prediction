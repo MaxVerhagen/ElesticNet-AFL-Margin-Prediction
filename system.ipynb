{
 "cells": [
  {
   "cell_type": "code",
   "execution_count": 1,
   "metadata": {},
   "outputs": [],
   "source": [
    "from math import sqrt\n",
    "\n",
    "from sklearn.preprocessing import StandardScaler\n",
    "from sklearn.decomposition import PCA\n",
    "from sklearn.metrics import r2_score, mean_squared_error, mean_absolute_error\n",
    "\n",
    "import csv\n",
    "#import cvxopt\n",
    "\n",
    "import Enet\n",
    "import pre_pro"
   ]
  },
  {
   "cell_type": "code",
   "execution_count": 2,
   "metadata": {},
   "outputs": [],
   "source": [
    "#Import data from file\n",
    "with open(\"new_superset_train.csv\", newline='') as f:\n",
    "#with open(\"training_data_new/Adelaide_train.csv\", newline='') as f:\n",
    "    reader = csv.reader(f)\n",
    "    inputdata = list(reader)\n",
    "\n",
    "data = []\n",
    "for line in inputdata:\n",
    "    data.append(list(map(float,line)))\n",
    "     "
   ]
  },
  {
   "cell_type": "code",
   "execution_count": 3,
   "metadata": {},
   "outputs": [
    {
     "name": "stdout",
     "output_type": "stream",
     "text": [
      "Input data size: 7574\n",
      "Data shape after Zscore: (7554, 471)\n"
     ]
    },
    {
     "name": "stderr",
     "output_type": "stream",
     "text": [
      "C:\\Users\\chopt\\Miniconda3\\lib\\site-packages\\scipy\\stats\\stats.py:2500: RuntimeWarning: invalid value encountered in true_divide\n",
      "  return (a - mns) / sstd\n"
     ]
    },
    {
     "name": "stdout",
     "output_type": "stream",
     "text": [
      "Data shape after Qrange: (7266, 471)\n",
      "Data size after close games removed: 6462\n",
      "Traing size: 5815 , Test size: 647\n"
     ]
    }
   ],
   "source": [
    "#Conduct Pre-processing\n",
    "pp = pre_pro.pre_prosessing(data)\n",
    "pp.zscore_remove(6)\n",
    "pp.qrange_remove(0.05,0.95)\n",
    "pp.x_y_split()\n",
    "pp.closegame_remove(-7,7)\n",
    "x_train, x_test, y_train, y_test = pp.data_split(test_size = 0.1, seed = 10)"
   ]
  },
  {
   "cell_type": "code",
   "execution_count": 4,
   "metadata": {},
   "outputs": [],
   "source": [
    "#Principal Component Analysis\n",
    "scaler = StandardScaler()\n",
    "scaler.fit(x_train)\n",
    "x_train = scaler.transform(x_train)\n",
    "x_test = scaler.transform(x_test)"
   ]
  },
  {
   "cell_type": "code",
   "execution_count": 5,
   "metadata": {},
   "outputs": [
    {
     "name": "stdout",
     "output_type": "stream",
     "text": [
      "New Model:  <Enet.Eneter object at 0x000001B3F3215198>\n",
      "Now fitting 5815 games with 470 features.\n"
     ]
    },
    {
     "data": {
      "text/plain": [
       "<Enet.Eneter at 0x1b3f3215198>"
      ]
     },
     "execution_count": 5,
     "metadata": {},
     "output_type": "execute_result"
    }
   ],
   "source": [
    "enet= Enet.Eneter()\n",
    "enet.fit(x_train, y_train)"
   ]
  },
  {
   "cell_type": "code",
   "execution_count": 6,
   "metadata": {},
   "outputs": [
    {
     "name": "stdout",
     "output_type": "stream",
     "text": [
      "True Pos:  224\n",
      "False Pos:  103\n",
      "True neg:  225\n",
      "False neg:  95\n",
      "Accuracy:  69.39721792890263\n",
      "R2 = 0.2860558051311036\n",
      "RMSE = 41.36343599672443\n",
      "RAE = 33.710124498251936\n",
      "True Range:  -148.0  to  157.0\n",
      "Pred Range:  -70.96745680623268  to  60.81180388764871\n"
     ]
    }
   ],
   "source": [
    "y_pred = enet.predict(x_test)\n",
    "\n",
    "t_pos =0\n",
    "f_pos = 0\n",
    "t_neg = 0\n",
    "f_neg = 0\n",
    "for t,p in zip(y_test,y_pred):\n",
    "    if(t >= 0 and p >= 0):\n",
    "        t_pos+=1\n",
    "    elif(t<0 and p >0):\n",
    "        f_pos+=1\n",
    "    elif(t<0 and p<0):\n",
    "        t_neg+=1  \n",
    "    elif(t>0 and p<0):\n",
    "        f_neg+=1  \n",
    "        \n",
    "        \n",
    "print(\"True Pos: \",t_pos)\n",
    "print(\"False Pos: \",f_pos)\n",
    "print(\"True neg: \",t_neg)\n",
    "print(\"False neg: \",f_neg)\n",
    "\n",
    "print(\"Accuracy: \", ((t_pos+t_neg)/(t_pos+f_pos+t_neg+f_neg)*100))\n",
    "\n",
    "print('R2 = '+str(r2_score(y_test, y_pred, multioutput='variance_weighted')))\n",
    "print('RMSE = '+str(sqrt(mean_squared_error(y_test, y_pred))))\n",
    "print('RAE = '+str(mean_absolute_error(y_test, y_pred)))\n",
    "print(\"True Range: \",min(y_test),\" to \",max(y_test))\n",
    "print(\"Pred Range: \",min(y_pred),\" to \",max(y_pred))"
   ]
  },
  {
   "cell_type": "code",
   "execution_count": 8,
   "metadata": {},
   "outputs": [
    {
     "name": "stdout",
     "output_type": "stream",
     "text": [
      "Geelong vs Richmond: [-6.8277276]\n"
     ]
    }
   ],
   "source": [
    "#GrandFinal Prediction\n",
    "with open(\"grandF.csv\", newline='') as f:\n",
    "#with open(\"training_data_new/Adelaide_train.csv\", newline='') as f:\n",
    "    reader = csv.reader(f)\n",
    "    inputdata = list(reader)\n",
    "\n",
    "gfdata = []\n",
    "for line in inputdata:\n",
    "    gfdata.append(list(map(float,line)))\n",
    "\n",
    "X = [item[:-1] for item in gfdata]\n",
    "Y = [item[0] for item in gfdata]\n",
    "\n",
    "gf = scaler.transform(X)\n",
    "\n",
    "Prediction = enet.predict(gf)\n",
    "print(\"Geelong vs Richmond:\",Prediction)"
   ]
  },
  {
   "cell_type": "code",
   "execution_count": null,
   "metadata": {},
   "outputs": [],
   "source": []
  }
 ],
 "metadata": {
  "kernelspec": {
   "display_name": "Python 3",
   "language": "python",
   "name": "python3"
  },
  "language_info": {
   "codemirror_mode": {
    "name": "ipython",
    "version": 3
   },
   "file_extension": ".py",
   "mimetype": "text/x-python",
   "name": "python",
   "nbconvert_exporter": "python",
   "pygments_lexer": "ipython3",
   "version": "3.7.3"
  }
 },
 "nbformat": 4,
 "nbformat_minor": 2
}
