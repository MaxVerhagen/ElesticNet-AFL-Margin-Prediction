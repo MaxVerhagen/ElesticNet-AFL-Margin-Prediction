{
 "cells": [
  {
   "cell_type": "code",
   "execution_count": 26,
   "metadata": {},
   "outputs": [],
   "source": [
    "from bs4 import BeautifulSoup\n",
    "import requests\n",
    "import numpy as np\n",
    "import csv\n",
    "import urllib.request\n",
    "import copy"
   ]
  },
  {
   "cell_type": "code",
   "execution_count": 27,
   "metadata": {},
   "outputs": [
    {
     "data": {
      "text/plain": [
       "'\\nother team = team1[n][0]\\n\\nopen other team csv\\n\\nthe score for the game to predict = team1[n][1]\\n\\nteam1[n-1][1:]\\nteam1[n-2][1:]\\nteam1[n-3][1:]\\n\\nteam2[n-1][1:]\\nteam2[n-2][1:]\\nteam2[n-3][1:]\\n\\nn++\\n\\n'"
      ]
     },
     "execution_count": 27,
     "metadata": {},
     "output_type": "execute_result"
    }
   ],
   "source": [
    "'''\n",
    "other team = team1[n][0]\n",
    "\n",
    "open other team csv\n",
    "\n",
    "the score for the game to predict = team1[n][1]\n",
    "\n",
    "team1[n-1][1:]\n",
    "team1[n-2][1:]\n",
    "team1[n-3][1:]\n",
    "\n",
    "team2[n-1][1:]\n",
    "team2[n-2][1:]\n",
    "team2[n-3][1:]\n",
    "\n",
    "n++\n",
    "\n",
    "'''"
   ]
  },
  {
   "cell_type": "code",
   "execution_count": 28,
   "metadata": {},
   "outputs": [],
   "source": [
    "team_names = ['Adelaide', 'Brisbane Lions', 'Carlton', 'Collingwood', 'Essendon',\n",
    " 'Fremantle', 'Geelong', 'Gold Coast', 'Greater Western Sydney', 'Hawthorn', 'Melbourne',\n",
    "'North Melbourne', 'Port Adelaide', 'Richmond', 'St Kilda', 'Sydney', 'West Coast', 'Western Bulldogs' ]\n",
    "team_test = ['Adelaide']\n",
    "training_data = []"
   ]
  },
  {
   "cell_type": "code",
   "execution_count": null,
   "metadata": {},
   "outputs": [],
   "source": []
  },
  {
   "cell_type": "code",
   "execution_count": 31,
   "metadata": {},
   "outputs": [],
   "source": [
    "for team in team_names:\n",
    "    training_data.clear()\n",
    "    with open('team_data/'+team+'_data.csv', newline='') as f:\n",
    "        reader = csv.reader(f)\n",
    "        team1 = list(reader)\n",
    "    \n",
    "    temp_data = []\n",
    "    for game in range(3,len(team1)):\n",
    "        \n",
    "        found = False\n",
    "        temp_data.clear()\n",
    "        \n",
    "        otherteam = team1[game][1]\n",
    "        gamecode = team1[game][0]\n",
    "        temp_data.extend([team1[game][2]])\n",
    "        temp_data.extend(team1[game-1][2:])\n",
    "        temp_data.extend(team1[game-2][2:])\n",
    "        temp_data.extend(team1[game-3][2:])\n",
    "        \n",
    "        if not otherteam in team_names:\n",
    "            continue\n",
    "            \n",
    "        with open('team_data/'+otherteam+'_data.csv', newline='') as f2:\n",
    "            reader2 = csv.reader(f2)\n",
    "            team2 = list(reader2)\n",
    "            \n",
    "        for game2 in range(3,len(team2)):\n",
    "            if(gamecode == team2[game2][0]):\n",
    "                temp_data.extend(team2[game2-1][2:])\n",
    "                temp_data.extend(team2[game2-2][2:])\n",
    "                temp_data.extend(team2[game2-3][2:])\n",
    "                training_data.append(temp_data[:])\n",
    "                break\n",
    "                \n",
    "    with open('training_data/'+team+'_train.csv', 'w', newline='') as myfile:\n",
    "        wr = csv.writer(myfile, delimiter=',', quotechar='\"', quoting=csv.QUOTE_ALL)\n",
    "        for row in training_data:\n",
    "            wr.writerow(row)"
   ]
  },
  {
   "cell_type": "code",
   "execution_count": null,
   "metadata": {},
   "outputs": [],
   "source": []
  }
 ],
 "metadata": {
  "kernelspec": {
   "display_name": "Python 3",
   "language": "python",
   "name": "python3"
  },
  "language_info": {
   "codemirror_mode": {
    "name": "ipython",
    "version": 3
   },
   "file_extension": ".py",
   "mimetype": "text/x-python",
   "name": "python",
   "nbconvert_exporter": "python",
   "pygments_lexer": "ipython3",
   "version": "3.7.3"
  }
 },
 "nbformat": 4,
 "nbformat_minor": 2
}
