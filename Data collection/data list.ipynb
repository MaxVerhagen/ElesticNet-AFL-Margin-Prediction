{
 "cells": [
  {
   "cell_type": "code",
   "execution_count": 1,
   "metadata": {},
   "outputs": [],
   "source": [
    "from bs4 import BeautifulSoup\n",
    "import csv\n",
    "import requests\n",
    "import numpy as np\n",
    "import copy\n",
    "import urllib.request"
   ]
  },
  {
   "cell_type": "code",
   "execution_count": 2,
   "metadata": {},
   "outputs": [
    {
     "data": {
      "text/plain": [
       "'\\n#METHOD 1\\nurl=\"http://blabla.com\"\\nsoup = bs(urllib.urlopen(url))\\n\\n#METHOD 2\\npage = requests.get(\"https://afltables.com/afl/seas/1901.html\")\\npage\\nsoup = BeautifulSoup (page.content, \\'html5lib\\')\\n'"
      ]
     },
     "execution_count": 2,
     "metadata": {},
     "output_type": "execute_result"
    }
   ],
   "source": [
    "'''\n",
    "#METHOD 1\n",
    "url=\"http://blabla.com\"\n",
    "soup = bs(urllib.urlopen(url))\n",
    "\n",
    "#METHOD 2\n",
    "page = requests.get(\"https://afltables.com/afl/seas/1901.html\")\n",
    "page\n",
    "soup = BeautifulSoup (page.content, 'html5lib')\n",
    "'''"
   ]
  },
  {
   "cell_type": "code",
   "execution_count": 3,
   "metadata": {},
   "outputs": [],
   "source": [
    "def game_list(souploc):\n",
    "    data4 = []\n",
    "    table = souploc.findAll('table')\n",
    "    for tb in range(len(table)):\n",
    "        data = []\n",
    "        table_body = table[tb].find('tbody')\n",
    "        if(str(table_body)[:40] == \"<tbody><tr><td valign=\\\"top\\\" width=\\\"85%\\\">\"):\n",
    "            rows = table_body.findAll('tr')\n",
    "            for row in rows:\n",
    "                cols = row.find_all('td')\n",
    "                cols = [ele.text.strip() for ele in cols]\n",
    "                data.append([ele for ele in cols if ele]) # Get rid of empty values\n",
    "                \n",
    "                if data[0]:\n",
    "                    data[0].pop(0)\n",
    "                else:\n",
    "                    continue\n",
    "                data2 = []\n",
    "                data3 = []\n",
    "                counter  = 0 \n",
    "                for point in range(len(data[0])):\n",
    "                    if(point % 2 == 0 ):\n",
    "                        counter += 1\n",
    "                        if(data[0][point][:2]==\"Rd\"):\n",
    "                            break\n",
    "                        data2.append(data[0][point])\n",
    "                        if(counter == 4):\n",
    "                            if(not data2[1].isnumeric() or not data2[3].isnumeric()):\n",
    "                                break\n",
    "                            data3.extend([data2[:]])\n",
    "                            data2.clear()\n",
    "                            counter = 0\n",
    "                            \n",
    "                if not data3:\n",
    "                    continue\n",
    "                else:\n",
    "                    data4.extend(data3[:])\n",
    "                    data.clear()\n",
    "                    data2.clear()\n",
    "                    data3.clear()\n",
    "    return data4"
   ]
  },
  {
   "cell_type": "code",
   "execution_count": 4,
   "metadata": {},
   "outputs": [],
   "source": [
    "urltest = [\"https://afltables.com/afl/seas/2020.html\"]\n",
    "urllist = [\"https://afltables.com/afl/seas/1999.html\",\"https://afltables.com/afl/seas/2000.html\",\n",
    "           \"https://afltables.com/afl/seas/2001.html\",\"https://afltables.com/afl/seas/2002.html\",\n",
    "           \"https://afltables.com/afl/seas/2003.html\",\"https://afltables.com/afl/seas/2004.html\",\n",
    "           \"https://afltables.com/afl/seas/2005.html\",\"https://afltables.com/afl/seas/2006.html\",\n",
    "           \"https://afltables.com/afl/seas/2007.html\",\"https://afltables.com/afl/seas/2008.html\",\n",
    "           \"https://afltables.com/afl/seas/2009.html\",\"https://afltables.com/afl/seas/2010.html\",\n",
    "           \"https://afltables.com/afl/seas/2011.html\",\"https://afltables.com/afl/seas/2012.html\",\n",
    "           \"https://afltables.com/afl/seas/2013.html\",\"https://afltables.com/afl/seas/2014.html\",\n",
    "           \"https://afltables.com/afl/seas/2015.html\",\"https://afltables.com/afl/seas/2016.html\",\n",
    "           \"https://afltables.com/afl/seas/2017.html\",\"https://afltables.com/afl/seas/2018.html\",\n",
    "           \"https://afltables.com/afl/seas/2019.html\",\"https://afltables.com/afl/seas/2020.html\"]"
   ]
  },
  {
   "cell_type": "code",
   "execution_count": 5,
   "metadata": {},
   "outputs": [],
   "source": [
    "def list_maker(url):\n",
    "    soup = BeautifulSoup(urllib.request.urlopen(url), 'html5lib')\n",
    "    gamedata = game_list(soup)\n",
    "    links = soup.findAll('a',{'href': True})\n",
    "    linkdata = []\n",
    "    \n",
    "    for link in links:\n",
    "        if(link['href'][:15]==\"../stats/games/\"):\n",
    "            stredit = \"https://afltables.com/afl\"+str(link['href'][2:])\n",
    "            linkdata.append(stredit)\n",
    "    \n",
    "    for game in range(len(gamedata)):\n",
    "        #print(linkdata[game])\n",
    "        gamedata[game].insert(4,linkdata[game])\n",
    "        #print(gamedata[game])  \n",
    "        \n",
    "    return gamedata"
   ]
  },
  {
   "cell_type": "code",
   "execution_count": 6,
   "metadata": {},
   "outputs": [],
   "source": [
    "full_list = []\n",
    "full_list.clear()\n",
    "for url in urllist:\n",
    "    full_list.extend(list_maker(url))"
   ]
  },
  {
   "cell_type": "code",
   "execution_count": 7,
   "metadata": {},
   "outputs": [],
   "source": [
    "with open('game_list.csv', 'w', newline='') as myfile:\n",
    "    wr = csv.writer(myfile, delimiter=',', quotechar='\"', quoting=csv.QUOTE_ALL)\n",
    "    for row in full_list:\n",
    "        wr.writerow(row)"
   ]
  },
  {
   "cell_type": "code",
   "execution_count": null,
   "metadata": {},
   "outputs": [],
   "source": []
  }
 ],
 "metadata": {
  "kernelspec": {
   "display_name": "Python 3",
   "language": "python",
   "name": "python3"
  },
  "language_info": {
   "codemirror_mode": {
    "name": "ipython",
    "version": 3
   },
   "file_extension": ".py",
   "mimetype": "text/x-python",
   "name": "python",
   "nbconvert_exporter": "python",
   "pygments_lexer": "ipython3",
   "version": "3.7.3"
  }
 },
 "nbformat": 4,
 "nbformat_minor": 2
}
